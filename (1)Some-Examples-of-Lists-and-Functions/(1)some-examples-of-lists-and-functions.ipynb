{
 "cells": [
  {
   "cell_type": "markdown",
   "id": "722034f1",
   "metadata": {
    "papermill": {
     "duration": 0.013048,
     "end_time": "2021-08-23T14:45:33.274031",
     "exception": false,
     "start_time": "2021-08-23T14:45:33.260983",
     "status": "completed"
    },
    "tags": []
   },
   "source": [
    "**1-Make a list where each word of the string phrase is below an element of it.**\n",
    "\n",
    "S='Hi. Welcome to Filoger AI Bootcamp.'\n",
    "\n",
    "Hint: Use split Command."
   ]
  },
  {
   "cell_type": "code",
   "execution_count": 1,
   "id": "1774b14a",
   "metadata": {
    "execution": {
     "iopub.execute_input": "2021-08-23T14:45:33.306589Z",
     "iopub.status.busy": "2021-08-23T14:45:33.305351Z",
     "iopub.status.idle": "2021-08-23T14:45:33.318278Z",
     "shell.execute_reply": "2021-08-23T14:45:33.317573Z",
     "shell.execute_reply.started": "2021-08-23T14:44:48.963085Z"
    },
    "papermill": {
     "duration": 0.028642,
     "end_time": "2021-08-23T14:45:33.318480",
     "exception": false,
     "start_time": "2021-08-23T14:45:33.289838",
     "status": "completed"
    },
    "tags": []
   },
   "outputs": [
    {
     "name": "stdout",
     "output_type": "stream",
     "text": [
      "list of words is:  ['Hi.', 'Welcome', 'to', 'Filoger', 'AI', 'Bootcamp.'] \n",
      "\n",
      " Length of s is:  6\n"
     ]
    }
   ],
   "source": [
    "S='Hi. Welcome to Filoger AI Bootcamp.'\n",
    "list_of_words=[]\n",
    "list_of_words=S.split()\n",
    "print('list of words is: ',list_of_words,'\\n\\n','Length of s is: ',len(list_of_words))"
   ]
  },
  {
   "cell_type": "markdown",
   "id": "de89e311",
   "metadata": {
    "papermill": {
     "duration": 0.012158,
     "end_time": "2021-08-23T14:45:33.343781",
     "exception": false,
     "start_time": "2021-08-23T14:45:33.331623",
     "status": "completed"
    },
    "tags": []
   },
   "source": [
    "**2-Specify the number of words in the above string phrase.**\n",
    "\n",
    "Hint:To print the output, use the format print command with a meaningful sentence."
   ]
  },
  {
   "cell_type": "code",
   "execution_count": 2,
   "id": "b080e3bb",
   "metadata": {
    "execution": {
     "iopub.execute_input": "2021-08-23T14:45:33.372915Z",
     "iopub.status.busy": "2021-08-23T14:45:33.371884Z",
     "iopub.status.idle": "2021-08-23T14:45:33.377838Z",
     "shell.execute_reply": "2021-08-23T14:45:33.377176Z",
     "shell.execute_reply.started": "2021-08-23T14:44:48.978649Z"
    },
    "papermill": {
     "duration": 0.021538,
     "end_time": "2021-08-23T14:45:33.377981",
     "exception": false,
     "start_time": "2021-08-23T14:45:33.356443",
     "status": "completed"
    },
    "tags": []
   },
   "outputs": [
    {
     "name": "stdout",
     "output_type": "stream",
     "text": [
      "number of words in the above string phrase is: 6 \n"
     ]
    }
   ],
   "source": [
    "number_of_words=len(S.split())\n",
    "print('number of words in the above string phrase is: {} '.format(number_of_words))\n",
    "    "
   ]
  },
  {
   "cell_type": "markdown",
   "id": "2dc65402",
   "metadata": {
    "papermill": {
     "duration": 0.012407,
     "end_time": "2021-08-23T14:45:33.403365",
     "exception": false,
     "start_time": "2021-08-23T14:45:33.390958",
     "status": "completed"
    },
    "tags": []
   },
   "source": [
    "**3- How many sentences does the above string phrase have?**\n"
   ]
  },
  {
   "cell_type": "code",
   "execution_count": 3,
   "id": "1e4af50f",
   "metadata": {
    "execution": {
     "iopub.execute_input": "2021-08-23T14:45:33.434858Z",
     "iopub.status.busy": "2021-08-23T14:45:33.434054Z",
     "iopub.status.idle": "2021-08-23T14:45:33.438061Z",
     "shell.execute_reply": "2021-08-23T14:45:33.438593Z",
     "shell.execute_reply.started": "2021-08-23T14:44:48.999223Z"
    },
    "papermill": {
     "duration": 0.022589,
     "end_time": "2021-08-23T14:45:33.438780",
     "exception": false,
     "start_time": "2021-08-23T14:45:33.416191",
     "status": "completed"
    },
    "tags": []
   },
   "outputs": [
    {
     "name": "stdout",
     "output_type": "stream",
     "text": [
      "number of sentences in the above string phrase is: 2 \n"
     ]
    }
   ],
   "source": [
    "number_of_sentences=0\n",
    "for item in S:\n",
    "    if(item=='.'):\n",
    "        number_of_sentences+=1\n",
    "print('number of sentences in the above string phrase is: {} '.format(number_of_sentences))"
   ]
  },
  {
   "cell_type": "markdown",
   "id": "8ba74400",
   "metadata": {
    "papermill": {
     "duration": 0.012961,
     "end_time": "2021-08-23T14:45:33.465239",
     "exception": false,
     "start_time": "2021-08-23T14:45:33.452278",
     "status": "completed"
    },
    "tags": []
   },
   "source": [
    "**4. Create a function that takes a person's email address and presents its domain as output.**\n",
    "\n",
    "For example, take the email address'user@domain.com 'and its output is 'domain.com'"
   ]
  },
  {
   "cell_type": "code",
   "execution_count": 4,
   "id": "093845fc",
   "metadata": {
    "execution": {
     "iopub.execute_input": "2021-08-23T14:45:33.498047Z",
     "iopub.status.busy": "2021-08-23T14:45:33.497392Z",
     "iopub.status.idle": "2021-08-23T14:45:33.499980Z",
     "shell.execute_reply": "2021-08-23T14:45:33.500439Z",
     "shell.execute_reply.started": "2021-08-23T14:44:49.012659Z"
    },
    "papermill": {
     "duration": 0.022234,
     "end_time": "2021-08-23T14:45:33.500616",
     "exception": false,
     "start_time": "2021-08-23T14:45:33.478382",
     "status": "completed"
    },
    "tags": []
   },
   "outputs": [],
   "source": [
    "# k=0\n",
    "# domain=[]\n",
    "def email_domain():\n",
    "    k=0\n",
    "    domain=[]\n",
    "#     email=input()\n",
    "    email=\"amini75zahra@gmail.com\"\n",
    "    len_e=len(email)\n",
    "    for item in email:\n",
    "        if(item!='@'):\n",
    "            k+=1\n",
    "        else: break\n",
    "    k+=1\n",
    "    len_e=len_e-k\n",
    "    for item in range(len_e):\n",
    "        domain+='{}'.format(email[k])\n",
    "        k+=1\n",
    "    domain=''.join(domain)\n",
    "    return domain"
   ]
  },
  {
   "cell_type": "code",
   "execution_count": 5,
   "id": "dd1bdd0c",
   "metadata": {
    "execution": {
     "iopub.execute_input": "2021-08-23T14:45:33.537663Z",
     "iopub.status.busy": "2021-08-23T14:45:33.536749Z",
     "iopub.status.idle": "2021-08-23T14:45:33.540667Z",
     "shell.execute_reply": "2021-08-23T14:45:33.541266Z",
     "shell.execute_reply.started": "2021-08-23T14:44:49.024654Z"
    },
    "papermill": {
     "duration": 0.027622,
     "end_time": "2021-08-23T14:45:33.541468",
     "exception": false,
     "start_time": "2021-08-23T14:45:33.513846",
     "status": "completed"
    },
    "tags": []
   },
   "outputs": [
    {
     "name": "stdout",
     "output_type": "stream",
     "text": [
      "gmail.com\n"
     ]
    }
   ],
   "source": [
    "print(email_domain())"
   ]
  },
  {
   "cell_type": "markdown",
   "id": "dff991af",
   "metadata": {
    "papermill": {
     "duration": 0.0154,
     "end_time": "2021-08-23T14:45:33.571566",
     "exception": false,
     "start_time": "2021-08-23T14:45:33.556166",
     "status": "completed"
    },
    "tags": []
   },
   "source": [
    "**5. Define a function that if the word Iran exists in a string expression, its output is True.**"
   ]
  },
  {
   "cell_type": "code",
   "execution_count": 6,
   "id": "8fafa3d9",
   "metadata": {
    "execution": {
     "iopub.execute_input": "2021-08-23T14:45:33.610518Z",
     "iopub.status.busy": "2021-08-23T14:45:33.609544Z",
     "iopub.status.idle": "2021-08-23T14:45:33.613064Z",
     "shell.execute_reply": "2021-08-23T14:45:33.612362Z",
     "shell.execute_reply.started": "2021-08-23T14:44:49.037132Z"
    },
    "papermill": {
     "duration": 0.023554,
     "end_time": "2021-08-23T14:45:33.613290",
     "exception": false,
     "start_time": "2021-08-23T14:45:33.589736",
     "status": "completed"
    },
    "tags": []
   },
   "outputs": [],
   "source": [
    "def find_iran(string_expression):\n",
    "    return 'Iran' in string_expression"
   ]
  },
  {
   "cell_type": "code",
   "execution_count": 7,
   "id": "2d7b4c37",
   "metadata": {
    "execution": {
     "iopub.execute_input": "2021-08-23T14:45:33.655050Z",
     "iopub.status.busy": "2021-08-23T14:45:33.654032Z",
     "iopub.status.idle": "2021-08-23T14:45:33.658964Z",
     "shell.execute_reply": "2021-08-23T14:45:33.658382Z",
     "shell.execute_reply.started": "2021-08-23T14:44:49.049300Z"
    },
    "papermill": {
     "duration": 0.025781,
     "end_time": "2021-08-23T14:45:33.659116",
     "exception": false,
     "start_time": "2021-08-23T14:45:33.633335",
     "status": "completed"
    },
    "tags": []
   },
   "outputs": [
    {
     "data": {
      "text/plain": [
       "True"
      ]
     },
     "execution_count": 7,
     "metadata": {},
     "output_type": "execute_result"
    }
   ],
   "source": [
    "find_iran('My country is Iran')"
   ]
  },
  {
   "cell_type": "markdown",
   "id": "27a12f5b",
   "metadata": {
    "papermill": {
     "duration": 0.014329,
     "end_time": "2021-08-23T14:45:33.687948",
     "exception": false,
     "start_time": "2021-08-23T14:45:33.673619",
     "status": "completed"
    },
    "tags": []
   },
   "source": [
    "**6. You are driving at high speed and the police will stop your car.Write a function whose output is one of the following three cases:**\n",
    "\n",
    "\n",
    "A. If your speed is 60 km / h, its output is \"No Ticket\",\n",
    "\n",
    "B. If your speed is more than 60 to 80 km / h, the output is \"Small Ticket\",\n",
    "\n",
    "C. And if your speed is more than 80 kilometers per hour, the output is \"Big Ticket\".\n",
    "\n",
    "Special mode: on your birthday you can go up to 5 km / h faster in all cases\n",
    "Drive.\n"
   ]
  },
  {
   "cell_type": "code",
   "execution_count": 8,
   "id": "225732e1",
   "metadata": {
    "execution": {
     "iopub.execute_input": "2021-08-23T14:45:33.722848Z",
     "iopub.status.busy": "2021-08-23T14:45:33.722104Z",
     "iopub.status.idle": "2021-08-23T14:45:33.725681Z",
     "shell.execute_reply": "2021-08-23T14:45:33.726453Z",
     "shell.execute_reply.started": "2021-08-23T14:44:49.066951Z"
    },
    "papermill": {
     "duration": 0.024425,
     "end_time": "2021-08-23T14:45:33.726679",
     "exception": false,
     "start_time": "2021-08-23T14:45:33.702254",
     "status": "completed"
    },
    "tags": []
   },
   "outputs": [
    {
     "name": "stdout",
     "output_type": "stream",
     "text": [
      "Today's date: 08/23\n"
     ]
    }
   ],
   "source": [
    "from datetime import date\n",
    "\n",
    "today = date.today()\n",
    "today=today.strftime('%m/%d')\n",
    "print(\"Today's date:\", today)"
   ]
  },
  {
   "cell_type": "code",
   "execution_count": 9,
   "id": "68bee6de",
   "metadata": {
    "execution": {
     "iopub.execute_input": "2021-08-23T14:45:33.764950Z",
     "iopub.status.busy": "2021-08-23T14:45:33.763956Z",
     "iopub.status.idle": "2021-08-23T14:45:33.767398Z",
     "shell.execute_reply": "2021-08-23T14:45:33.766790Z",
     "shell.execute_reply.started": "2021-08-23T14:44:49.077823Z"
    },
    "papermill": {
     "duration": 0.024639,
     "end_time": "2021-08-23T14:45:33.767560",
     "exception": false,
     "start_time": "2021-08-23T14:45:33.742921",
     "status": "completed"
    },
    "tags": []
   },
   "outputs": [],
   "source": [
    "def check_speed(speed, birth_date):\n",
    "    if(birth_date!=today):\n",
    "        if (speed<=60):\n",
    "            print(\"No Ticket\")\n",
    "        if(speed>60 and speed<=80):\n",
    "            print(\"Small Ticket\")\n",
    "        if(speed>80):\n",
    "            print(\"Big Ticket\")\n",
    "    else:\n",
    "        if (speed<=65):\n",
    "            print(\"No Ticket\",'\\t','Happy Birth Day :)')\n",
    "        if(speed>65 and speed<=85):\n",
    "            print(\"Small Ticket\",'\\t','Happy Birth Day :)')\n",
    "        if(speed>85):\n",
    "            print(\"Big Ticket\",'\\t','Happy Birth Day :)')\n",
    "    "
   ]
  },
  {
   "cell_type": "code",
   "execution_count": 10,
   "id": "90280abf",
   "metadata": {
    "execution": {
     "iopub.execute_input": "2021-08-23T14:45:33.802187Z",
     "iopub.status.busy": "2021-08-23T14:45:33.801548Z",
     "iopub.status.idle": "2021-08-23T14:45:33.806107Z",
     "shell.execute_reply": "2021-08-23T14:45:33.805479Z",
     "shell.execute_reply.started": "2021-08-23T14:44:49.087541Z"
    },
    "papermill": {
     "duration": 0.023274,
     "end_time": "2021-08-23T14:45:33.806255",
     "exception": false,
     "start_time": "2021-08-23T14:45:33.782981",
     "status": "completed"
    },
    "tags": []
   },
   "outputs": [
    {
     "name": "stdout",
     "output_type": "stream",
     "text": [
      "Big Ticket\n",
      "Small Ticket \t Happy Birth Day :)\n"
     ]
    }
   ],
   "source": [
    "check_speed(83, '06/28')\n",
    "\n",
    "check_speed(83, '08/23')"
   ]
  }
 ],
 "metadata": {
  "kernelspec": {
   "display_name": "Python 3",
   "language": "python",
   "name": "python3"
  },
  "language_info": {
   "codemirror_mode": {
    "name": "ipython",
    "version": 3
   },
   "file_extension": ".py",
   "mimetype": "text/x-python",
   "name": "python",
   "nbconvert_exporter": "python",
   "pygments_lexer": "ipython3",
   "version": "3.7.10"
  },
  "papermill": {
   "default_parameters": {},
   "duration": 9.46243,
   "end_time": "2021-08-23T14:45:34.431306",
   "environment_variables": {},
   "exception": null,
   "input_path": "__notebook__.ipynb",
   "output_path": "__notebook__.ipynb",
   "parameters": {},
   "start_time": "2021-08-23T14:45:24.968876",
   "version": "2.3.3"
  }
 },
 "nbformat": 4,
 "nbformat_minor": 5
}
