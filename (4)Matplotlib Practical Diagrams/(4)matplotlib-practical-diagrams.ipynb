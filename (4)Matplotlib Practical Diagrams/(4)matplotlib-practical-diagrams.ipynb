{
 "cells": [
  {
   "cell_type": "markdown",
   "id": "53f8372c",
   "metadata": {
    "papermill": {
     "duration": 0.012794,
     "end_time": "2021-09-04T14:34:27.118719",
     "exception": false,
     "start_time": "2021-09-04T14:34:27.105925",
     "status": "completed"
    },
    "tags": []
   },
   "source": [
    "<a href=\"https://imgbb.com/\"><img src=\"https://i.ibb.co/1Tq8Bky/download.png\" alt=\"download\" border=\"0\"></a>"
   ]
  },
  {
   "cell_type": "markdown",
   "id": "69b9479e",
   "metadata": {
    "papermill": {
     "duration": 0.011008,
     "end_time": "2021-09-04T14:34:27.141260",
     "exception": false,
     "start_time": "2021-09-04T14:34:27.130252",
     "status": "completed"
    },
    "tags": []
   },
   "source": [
    "# What is matplotlib Pyplot in Python?\n",
    "\n",
    "**matplotlib.pyplot is a collection of functions that make matplotlib work like MATLAB. Each pyplot function makes some change to a figure: e.g., creates a figure, creates a plotting area in a figure, plots some lines in a plotting area, decorates the plot with labels, etc.**"
   ]
  },
  {
   "cell_type": "markdown",
   "id": "bca24b1f",
   "metadata": {
    "papermill": {
     "duration": 0.011011,
     "end_time": "2021-09-04T14:34:27.163507",
     "exception": false,
     "start_time": "2021-09-04T14:34:27.152496",
     "status": "completed"
    },
    "tags": []
   },
   "source": [
    "# We want to plot a series of simple but practical diagrams using matplotlib."
   ]
  },
  {
   "cell_type": "code",
   "execution_count": 1,
   "id": "3a8c97ed",
   "metadata": {
    "_cell_guid": "b1076dfc-b9ad-4769-8c92-a6c4dae69d19",
    "_uuid": "8f2839f25d086af736a60e9eeb907d3b93b6e0e5",
    "execution": {
     "iopub.execute_input": "2021-09-04T14:34:27.200778Z",
     "iopub.status.busy": "2021-09-04T14:34:27.200089Z",
     "iopub.status.idle": "2021-09-04T14:34:27.203553Z",
     "shell.execute_reply": "2021-09-04T14:34:27.202868Z",
     "shell.execute_reply.started": "2021-09-04T14:33:48.933489Z"
    },
    "papermill": {
     "duration": 0.028936,
     "end_time": "2021-09-04T14:34:27.203723",
     "exception": false,
     "start_time": "2021-09-04T14:34:27.174787",
     "status": "completed"
    },
    "tags": []
   },
   "outputs": [],
   "source": [
    "import numpy as np\n",
    "import pandas as pd\n",
    "import matplotlib.pyplot as plt\n",
    "\n",
    "%matplotlib inline"
   ]
  },
  {
   "cell_type": "markdown",
   "id": "2f988e1e",
   "metadata": {
    "papermill": {
     "duration": 0.011157,
     "end_time": "2021-09-04T14:34:27.226588",
     "exception": false,
     "start_time": "2021-09-04T14:34:27.215431",
     "status": "completed"
    },
    "tags": []
   },
   "source": [
    "**1-We have 100 samples of blood types, 30 of whom have blood type A, 24 of whom have blood type B, 8 of whom have blood type AB, and 38 of whom have blood type O.**"
   ]
  },
  {
   "cell_type": "markdown",
   "id": "25eb266b",
   "metadata": {
    "papermill": {
     "duration": 0.011008,
     "end_time": "2021-09-04T14:34:27.249134",
     "exception": false,
     "start_time": "2021-09-04T14:34:27.238126",
     "status": "completed"
    },
    "tags": []
   },
   "source": [
    "**1.A: Plot a bar chart for the above examples that shows the vertical axis of the number and the horizontal axis of the groups.**"
   ]
  },
  {
   "cell_type": "code",
   "execution_count": 2,
   "id": "83d61414",
   "metadata": {
    "execution": {
     "iopub.execute_input": "2021-09-04T14:34:27.277055Z",
     "iopub.status.busy": "2021-09-04T14:34:27.276428Z",
     "iopub.status.idle": "2021-09-04T14:34:27.279193Z",
     "shell.execute_reply": "2021-09-04T14:34:27.278697Z",
     "shell.execute_reply.started": "2021-09-04T14:33:48.949701Z"
    },
    "papermill": {
     "duration": 0.018202,
     "end_time": "2021-09-04T14:34:27.279326",
     "exception": false,
     "start_time": "2021-09-04T14:34:27.261124",
     "status": "completed"
    },
    "tags": []
   },
   "outputs": [],
   "source": [
    "data = {'A':30, 'B':24, 'AB':8,\n",
    "        'O':38}"
   ]
  },
  {
   "cell_type": "code",
   "execution_count": 3,
   "id": "51238344",
   "metadata": {
    "execution": {
     "iopub.execute_input": "2021-09-04T14:34:27.413435Z",
     "iopub.status.busy": "2021-09-04T14:34:27.412771Z",
     "iopub.status.idle": "2021-09-04T14:34:27.578271Z",
     "shell.execute_reply": "2021-09-04T14:34:27.577742Z",
     "shell.execute_reply.started": "2021-09-04T14:33:48.989295Z"
    },
    "papermill": {
     "duration": 0.287749,
     "end_time": "2021-09-04T14:34:27.578410",
     "exception": false,
     "start_time": "2021-09-04T14:34:27.290661",
     "status": "completed"
    },
    "tags": []
   },
   "outputs": [
    {
     "data": {
      "image/png": "[encoded data removed]",
      "text/plain": [
       "<Figure size 720x360 with 1 Axes>"
      ]
     },
     "metadata": {
      "needs_background": "light"
     },
     "output_type": "display_data"
    }
   ],
   "source": [
    "courses = list(data.keys())\n",
    "values = list(data.values())\n",
    "  \n",
    "fig = plt.figure(figsize = (10, 5))\n",
    " \n",
    "# creating the bar plot\n",
    "plt.bar(courses, values, color ='maroon',\n",
    "        width = 0.4)\n",
    " \n",
    "plt.xlabel(\"blood type\")\n",
    "plt.ylabel(\"No. of blood type\")\n",
    "plt.show()"
   ]
  },
  {
   "cell_type": "markdown",
   "id": "22ab29e1",
   "metadata": {
    "papermill": {
     "duration": 0.011691,
     "end_time": "2021-09-04T14:34:27.602318",
     "exception": false,
     "start_time": "2021-09-04T14:34:27.590627",
     "status": "completed"
    },
    "tags": []
   },
   "source": [
    "**1.B: Display sample information as a pie chart**"
   ]
  },
  {
   "cell_type": "code",
   "execution_count": 4,
   "id": "4a0c03f2",
   "metadata": {
    "execution": {
     "iopub.execute_input": "2021-09-04T14:34:27.648131Z",
     "iopub.status.busy": "2021-09-04T14:34:27.647457Z",
     "iopub.status.idle": "2021-09-04T14:34:27.764742Z",
     "shell.execute_reply": "2021-09-04T14:34:27.764155Z",
     "shell.execute_reply.started": "2021-09-01T08:23:52.899391Z"
    },
    "papermill": {
     "duration": 0.150586,
     "end_time": "2021-09-04T14:34:27.764899",
     "exception": false,
     "start_time": "2021-09-04T14:34:27.614313",
     "status": "completed"
    },
    "tags": []
   },
   "outputs": [
    {
     "data": {
      "image/png": "[encoded data removed]",
      "text/plain": [
       "<Figure size 432x288 with 1 Axes>"
      ]
     },
     "metadata": {},
     "output_type": "display_data"
    }
   ],
   "source": [
    "# Pie chart\n",
    "labels = 'A', 'B', 'AB', 'O'\n",
    "sizes = [30, 24, 8, 38]\n",
    "explode = (0, 0, 0, 0.1)\n",
    "\n",
    "fig1, ax1 = plt.subplots()\n",
    "ax1.pie(sizes, explode=explode, labels=labels, autopct='%1.1f%%',\n",
    "        shadow=True, startangle=90)\n",
    "ax1.axis('equal')  \n",
    "\n",
    "plt.show()"
   ]
  },
  {
   "cell_type": "markdown",
   "id": "a57886ce",
   "metadata": {
    "papermill": {
     "duration": 0.012933,
     "end_time": "2021-09-04T14:34:27.790977",
     "exception": false,
     "start_time": "2021-09-04T14:34:27.778044",
     "status": "completed"
    },
    "tags": []
   },
   "source": [
    "**2-Plot a scatter plot for examples x and y.**"
   ]
  },
  {
   "cell_type": "code",
   "execution_count": 5,
   "id": "4af278ca",
   "metadata": {
    "execution": {
     "iopub.execute_input": "2021-09-04T14:34:27.878367Z",
     "iopub.status.busy": "2021-09-04T14:34:27.877673Z",
     "iopub.status.idle": "2021-09-04T14:34:27.997900Z",
     "shell.execute_reply": "2021-09-04T14:34:27.998373Z",
     "shell.execute_reply.started": "2021-09-01T08:25:52.995501Z"
    },
    "papermill": {
     "duration": 0.194363,
     "end_time": "2021-09-04T14:34:27.998552",
     "exception": false,
     "start_time": "2021-09-04T14:34:27.804189",
     "status": "completed"
    },
    "tags": []
   },
   "outputs": [
    {
     "data": {
      "image/png": "[encoded data removed]",
      "text/plain": [
       "<Figure size 432x288 with 1 Axes>"
      ]
     },
     "metadata": {
      "needs_background": "light"
     },
     "output_type": "display_data"
    }
   ],
   "source": [
    "x = [5,7,8,7,2,17,2,9,4,11,12,9,6] \n",
    "y = [99,86,87,88,111,86,103,87,94,78,77,85,86]\n",
    "\n",
    "N = 13\n",
    "\n",
    "colors = np.random.rand(N)\n",
    "area = (25 * np.random.rand(N))**2\n",
    "\n",
    "plt.xlabel('X')\n",
    "plt.ylabel('Y')\n",
    "\n",
    "plt.scatter(x, y, s=area, c=colors, alpha=0.5)\n",
    "plt.show()"
   ]
  },
  {
   "cell_type": "markdown",
   "id": "f672b2f2",
   "metadata": {
    "papermill": {
     "duration": 0.016327,
     "end_time": "2021-09-04T14:34:28.029185",
     "exception": false,
     "start_time": "2021-09-04T14:34:28.012858",
     "status": "completed"
    },
    "tags": []
   },
   "source": [
    "# "
   ]
  },
  {
   "cell_type": "markdown",
   "id": "3ae445d3",
   "metadata": {
    "papermill": {
     "duration": 0.0138,
     "end_time": "2021-09-04T14:34:28.057089",
     "exception": false,
     "start_time": "2021-09-04T14:34:28.043289",
     "status": "completed"
    },
    "tags": []
   },
   "source": [
    "**3-Using the numpy library, generate 300 samples that have a normal distribution with:**\n",
    "\n",
    "**mean= 170 ,  standard deviation=10**\n",
    "\n",
    "**and then plot a histogram for them.**"
   ]
  },
  {
   "cell_type": "code",
   "execution_count": 6,
   "id": "871368f3",
   "metadata": {
    "execution": {
     "iopub.execute_input": "2021-09-04T14:34:28.090979Z",
     "iopub.status.busy": "2021-09-04T14:34:28.090324Z",
     "iopub.status.idle": "2021-09-04T14:34:28.093322Z",
     "shell.execute_reply": "2021-09-04T14:34:28.092651Z",
     "shell.execute_reply.started": "2021-09-01T08:23:53.18261Z"
    },
    "papermill": {
     "duration": 0.022133,
     "end_time": "2021-09-04T14:34:28.093463",
     "exception": false,
     "start_time": "2021-09-04T14:34:28.071330",
     "status": "completed"
    },
    "tags": []
   },
   "outputs": [],
   "source": [
    "from matplotlib import colors\n",
    "from matplotlib.ticker import PercentFormatter\n",
    "\n",
    "np.random.seed(100)"
   ]
  },
  {
   "cell_type": "code",
   "execution_count": 7,
   "id": "ced2ee0b",
   "metadata": {
    "execution": {
     "iopub.execute_input": "2021-09-04T14:34:28.162219Z",
     "iopub.status.busy": "2021-09-04T14:34:28.155110Z",
     "iopub.status.idle": "2021-09-04T14:34:28.348883Z",
     "shell.execute_reply": "2021-09-04T14:34:28.348292Z",
     "shell.execute_reply.started": "2021-09-01T08:23:53.190194Z"
    },
    "papermill": {
     "duration": 0.239966,
     "end_time": "2021-09-04T14:34:28.349043",
     "exception": false,
     "start_time": "2021-09-04T14:34:28.109077",
     "status": "completed"
    },
    "tags": []
   },
   "outputs": [
    {
     "data": {
      "text/plain": [
       "(array([0.00103543, 0.0067303 , 0.02070862, 0.02847435, 0.03779323,\n",
       "        0.03106293, 0.01812004, 0.00880116, 0.00207086, 0.00051772]),\n",
       " array([140.26684526, 146.70538788, 153.1439305 , 159.58247313,\n",
       "        166.02101575, 172.45955837, 178.89810099, 185.33664362,\n",
       "        191.77518624, 198.21372886, 204.65227148]),\n",
       " <BarContainer object of 10 artists>)"
      ]
     },
     "execution_count": 7,
     "metadata": {},
     "output_type": "execute_result"
    },
    {
     "data": {
      "image/png": "[encoded data removed]",
      "text/plain": [
       "<Figure size 600x400 with 1 Axes>"
      ]
     },
     "metadata": {
      "needs_background": "light"
     },
     "output_type": "display_data"
    }
   ],
   "source": [
    "Normal_Data = np.random.normal(170,10,300)\n",
    "n_bins = 10\n",
    "\n",
    "\n",
    "fig = plt.figure(dpi=100)\n",
    "axs = fig.add_axes([0,0,1,1])\n",
    "\n",
    "\n",
    "N, bins, patches = axs.hist(Normal_Data, bins=n_bins)\n",
    "\n",
    "fracs = N / N.max()\n",
    "\n",
    "norm = colors.Normalize(fracs.min(), fracs.max())\n",
    "\n",
    "for thisfrac, thispatch in zip(fracs, patches):\n",
    "    color = plt.cm.viridis(norm(thisfrac))\n",
    "    thispatch.set_facecolor(color)\n",
    "\n",
    "axs.hist(Normal_Data, bins=n_bins, density=True)"
   ]
  },
  {
   "cell_type": "markdown",
   "id": "b7e8b8f6",
   "metadata": {
    "papermill": {
     "duration": 0.020656,
     "end_time": "2021-09-04T14:34:28.390116",
     "exception": false,
     "start_time": "2021-09-04T14:34:28.369460",
     "status": "completed"
    },
    "tags": []
   },
   "source": [
    "# Finished but you can copy this notebook and start practicing."
   ]
  }
 ],
 "metadata": {
  "kernelspec": {
   "display_name": "Python 3",
   "language": "python",
   "name": "python3"
  },
  "language_info": {
   "codemirror_mode": {
    "name": "ipython",
    "version": 3
   },
   "file_extension": ".py",
   "mimetype": "text/x-python",
   "name": "python",
   "nbconvert_exporter": "python",
   "pygments_lexer": "ipython3",
   "version": "3.7.10"
  },
  "papermill": {
   "default_parameters": {},
   "duration": 10.747946,
   "end_time": "2021-09-04T14:34:29.870565",
   "environment_variables": {},
   "exception": null,
   "input_path": "__notebook__.ipynb",
   "output_path": "__notebook__.ipynb",
   "parameters": {},
   "start_time": "2021-09-04T14:34:19.122619",
   "version": "2.3.3"
  }
 },
 "nbformat": 4,
 "nbformat_minor": 5
}
